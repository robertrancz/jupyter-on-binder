{
 "cells": [
  {
   "cell_type": "markdown",
   "metadata": {},
   "source": [
    "# Authorization Code Flow Example"
   ]
  },
  {
   "cell_type": "markdown",
   "metadata": {},
   "source": [
    "This is an interactive, redirection-based flow. The client must be capable of interacting with the resource owner's user-agent (typically a web browser) and capable of receiving incoming requests (via redirection) from the  authorization server."
   ]
  },
  {
   "cell_type": "code",
   "execution_count": null,
   "metadata": {
    "dotnet_interactive": {
     "language": "pwsh"
    }
   },
   "outputs": [],
   "source": [
    "#!pwsh\n",
    "\n",
    "$PSVersionTable.PSVersion"
   ]
  },
  {
   "cell_type": "markdown",
   "metadata": {},
   "source": [
    "The client application must call the waters_connect authorization endpoint.\n",
    "In this interactive step, the user is required to authenticate by entering his waters_connect credentials:"
   ]
  },
  {
   "cell_type": "code",
   "execution_count": null,
   "metadata": {
    "dotnet_interactive": {
     "language": "pwsh"
    }
   },
   "outputs": [],
   "source": [
    "#!pwsh\n",
    "\n",
    "$ie = new-object -com \"InternetExplorer.Application\"\n",
    "$ie.navigate(\"https://v2.unifiapi.com:48333/connect/authorize?client_id=jupyter&scope=webapi&response_type=code&redirect_uri=http://localhost:8888\")\n",
    "$ie.visible = $true"
   ]
  },
  {
   "cell_type": "markdown",
   "metadata": {},
   "source": [
    "In case of successful authentication, the waters_connect Identity Provider redirects the browser back to the user application.\n",
    "Note that the redirect URI is explicitly specified as query string on the call to the authorization endpoint above."
   ]
  },
  {
   "cell_type": "markdown",
   "metadata": {},
   "source": [
    "Next, let's examine the full redirect URI:"
   ]
  },
  {
   "cell_type": "code",
   "execution_count": null,
   "metadata": {
    "dotnet_interactive": {
     "language": "pwsh"
    }
   },
   "outputs": [],
   "source": [
    "$url = [uri]$ie.LocationURL\n",
    "$decoded = [uri]::UnescapeDataString($url)\n",
    "$u = [System.Web.HttpUtility]::UrlDecode($url)\n",
    "$u"
   ]
  },
  {
   "cell_type": "markdown",
   "metadata": {},
   "source": [
    "The URI contains the authorization code issued by the waters_connect Identity Provider.\n",
    "The client application must grab the authorization code and exchange it for an access token in order to be able to access waters_connect protected resources."
   ]
  },
  {
   "cell_type": "code",
   "execution_count": null,
   "metadata": {
    "dotnet_interactive": {
     "language": "pwsh"
    }
   },
   "outputs": [],
   "source": [
    "$url_parts_regex = '^(([^:/?#]+):)?(//([^/?#]*))?([^?#]*)(\\?([^#]*))?(#(.*))?'\n",
    "\n",
    "if ($url -match $url_parts_regex) {\n",
    "    $url_parts = @{\n",
    "        'Scheme' = $Matches[2];\n",
    "        'Server' = $Matches[4];\n",
    "        'Path' = $Matches[5];\n",
    "        'QueryString' = $Matches[7];\n",
    "        'QueryStringParts' = @{}\n",
    "    }\n",
    "\n",
    "    foreach ($qs in $url_parts.QueryString.Split('&')) {\n",
    "        $qs_key, $qs_value = $qs.Split('=')\n",
    "        $url_parts.QueryStringParts.Add(\n",
    "            [uri]::UnescapeDataString($qs_key),\n",
    "            [uri]::UnescapeDataString($qs_value)\n",
    "        ) | Out-Null\n",
    "    }\n",
    "} else {\n",
    "    Throw [System.Management.Automation.ParameterBindingException] \"Invalid URL Supplied\"\n",
    "}\n",
    "\n",
    "$url_parts.QueryStringParts"
   ]
  },
  {
   "cell_type": "markdown",
   "metadata": {},
   "source": [
    "In order to exchange the authorization code with an access token, the client application must do a POST request to the waters_connect `token` endpoint, as follows:"
   ]
  },
  {
   "cell_type": "code",
   "execution_count": null,
   "metadata": {
    "dotnet_interactive": {
     "language": "pwsh"
    }
   },
   "outputs": [],
   "source": [
    "#!pwsh\n",
    "$out = curl.exe -X POST --insecure -H \"Content-Type: application/x-www-form-urlencoded\" -d \"client_id=jupyter&client_secret=secret&grant_type=authorization_code&code=ef0d2f603ce8a6988bc5ceb598e45396c6a26e00e6652b38200481a1ee24e9b9&redirect_uri=http://localhost:8888\" https://v2.unifiapi.com:48333/connect/token\n",
    "$out"
   ]
  },
  {
   "cell_type": "code",
   "execution_count": null,
   "metadata": {
    "dotnet_interactive": {
     "language": "pwsh"
    }
   },
   "outputs": [],
   "source": [
    "$access_token = \"eyJhbGciOiJSUzI1NiIsImtpZCI6IjU4MjgxNjNENzhFM0VFOEY0MjY3OTgwOEQ1MTZDQjA3NkM4QTY0MkEiLCJ0eXAiOiJKV1QiLCJ4NXQiOiJXQ2dXUFhqajdvOUNaNWdJMVJiTEIyeUtaQ28ifQ.eyJuYmYiOjE2NDYwMzc1MjIsImV4cCI6MTY0NjA0MTEyMiwiaXNzIjoiaHR0cHM6Ly9lYzJhbWF6LWV1dmQ4c2s6NDgzMzMvIiwiYXVkIjpbImh0dHBzOi8vZWMyYW1hei1ldXZkOHNrOjQ4MzMzL3Jlc291cmNlcyIsIndlYmFwaSJdLCJjbGllbnRfaWQiOiJqdXB5dGVyIiwic3ViIjoiNDUwMWEwMDYtMWQyZC00Y2UzLWFhYjYtMzYwYTgxMDQ4NTkzIiwiYXV0aF90aW1lIjoxNjQ2MDM3NDg4LCJpZHAiOiJsb2NhbCIsIm5hbWUiOiJhZG1pbmlzdHJhdG9yIiwiZ2l2ZW5fbmFtZSI6IndhdGVyc19jb25uZWN0IiwiZmFtaWx5X25hbWUiOiJBZG1pbmlzdHJhdG9yIiwicm9sZSI6IjdiYjkwZDUzLTY5ZTktNDNkMS1hZjFmLTBhYmZkMzAwYThjNyIsImNsaWVudE1hY2hpbmVOYW1lIjoiSVAtMTcyLTMxLTIxLTYiLCJzY29wZSI6WyJ3ZWJhcGkiXSwiYW1yIjpbInB3ZCJdfQ.mFSFTXJZpNKna8JSooaHESB0Ep2Cb2w6GIOqI2WdWuCHIqFhfwyo8f9ux4WZZt-VM3uhp8vCBA6KoTNixNxPZbm0wuJAQTa4Jd5S16BZOJVF-TsPD28I2McM-zymhh8PAollhY2LtiJm7dV81wq6oQ4OmkYxrtZp5kTj6f7HqbRyaqso_TKDQupDL-iVYUMwKJO3I6QHQTJgMxrMmLz44JvS3BnKrtZISXsRijnRA-5o7AIZtomubPtcJsMPqLcbn8Kr964cO9IxQfx91py0wLmVchjcIqVfcghMq6z4ZILpzGzuOpfqHNjNvYO6O5j5EhmPeO97_xUikPQpCcxSdHPWESvJKY36uVCH19HOBXlAhukQA7Tgssxo1nSwkyC29B030lrYnZ9OVitTnSeEBS3mzFBb5F8svMe_BcSkDEFyzkQFqig8wbCO2kn6Z3SVGpWK8ngtfmq6lNUqlCXqPpzua0-uBs4bxexi5-WeKMuHZjGCI9KS4OnYypt7ZhJtuS3v22sOoZ3_pE-aqnVGMHf3uwCoqPpiLu0Xqw9f50Tor-Zm2jLVWWqzBl_gf3KaQj3zlyZs1nihJkEDVl5rlOD9ef6RZSvaE_3QuuWRn4HAoUsr-hXhPTyKNdkXD-39qaQD2eC_ch1e4B3X3guAqRR3O2iknMZlIn7GopFb0dw\""
   ]
  },
  {
   "cell_type": "markdown",
   "metadata": {},
   "source": [
    "The access token has to be put on the `Authorization` header when calling waters_connect protected endpoints:"
   ]
  },
  {
   "cell_type": "code",
   "execution_count": null,
   "metadata": {
    "dotnet_interactive": {
     "language": "pwsh"
    }
   },
   "outputs": [],
   "source": [
    "curl.exe -X GET --insecure -H \"Authorization: Bearer $access_token\" \"https://v2.unifiapi.com:48444/waters_connect/v1.0/folders\""
   ]
  }
 ],
 "metadata": {
  "kernelspec": {
   "display_name": ".NET (C#)",
   "language": "C#",
   "name": ".net-csharp"
  },
  "language_info": {
   "file_extension": ".cs",
   "mimetype": "text/x-csharp",
   "name": "C#",
   "pygments_lexer": "csharp",
   "version": "9.0"
  },
  "orig_nbformat": 4
 },
 "nbformat": 4,
 "nbformat_minor": 2
}
